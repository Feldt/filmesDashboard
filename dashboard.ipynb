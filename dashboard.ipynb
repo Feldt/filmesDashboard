{
 "cells": [
  {
   "cell_type": "code",
   "execution_count": 7,
   "metadata": {},
   "outputs": [],
   "source": [
    "import streamlit as st\n",
    "import pandas as pd\n",
    "import firebase_admin\n",
    "from firebase_admin import credentials\n",
    "from firebase_admin import firestore"
   ]
  },
  {
   "cell_type": "code",
   "execution_count": 8,
   "metadata": {},
   "outputs": [],
   "source": [
    "# Firebase configuration\n",
    "collection_name = \"filmsDashboard\"\n",
    "cred = credentials.Certificate(\"./secret/credentials.json\")\n",
    "\n",
    "# Load dataset\n",
    "df_to_import = pd.read_csv(\"./dataset/movies.csv\")\n"
   ]
  },
  {
   "cell_type": "code",
   "execution_count": 9,
   "metadata": {},
   "outputs": [
    {
     "data": {
      "application/vnd.microsoft.datawrangler.viewer.v0+json": {
       "columns": [
        {
         "name": "index",
         "rawType": "int64",
         "type": "integer"
        },
        {
         "name": "company",
         "rawType": "object",
         "type": "string"
        },
        {
         "name": "director",
         "rawType": "object",
         "type": "string"
        },
        {
         "name": "genre",
         "rawType": "object",
         "type": "string"
        },
        {
         "name": "name",
         "rawType": "object",
         "type": "string"
        }
       ],
       "conversionMethod": "pd.DataFrame",
       "ref": "9044324c-0b4a-4db8-b64c-93ff8bf0020e",
       "rows": [
        [
         "0",
         "Columbia Pictures Corporation",
         "Rob Reiner",
         "Adventure",
         "Stand by Me"
        ],
        [
         "1",
         "Paramount Pictures",
         "John Hughes",
         "Comedy",
         "Ferris Bueller's Day Off"
        ],
        [
         "2",
         "Paramount Pictures",
         "Tony Scott",
         "Action",
         "Top Gun"
        ],
        [
         "3",
         "Twentieth Century Fox Film Corporation",
         "James Cameron",
         "Action",
         "Aliens"
        ],
        [
         "4",
         "Walt Disney Pictures",
         "Randal Kleiser",
         "Adventure",
         "Flight of the Navigator"
        ]
       ],
       "shape": {
        "columns": 4,
        "rows": 5
       }
      },
      "text/html": [
       "<div>\n",
       "<style scoped>\n",
       "    .dataframe tbody tr th:only-of-type {\n",
       "        vertical-align: middle;\n",
       "    }\n",
       "\n",
       "    .dataframe tbody tr th {\n",
       "        vertical-align: top;\n",
       "    }\n",
       "\n",
       "    .dataframe thead th {\n",
       "        text-align: right;\n",
       "    }\n",
       "</style>\n",
       "<table border=\"1\" class=\"dataframe\">\n",
       "  <thead>\n",
       "    <tr style=\"text-align: right;\">\n",
       "      <th></th>\n",
       "      <th>company</th>\n",
       "      <th>director</th>\n",
       "      <th>genre</th>\n",
       "      <th>name</th>\n",
       "    </tr>\n",
       "  </thead>\n",
       "  <tbody>\n",
       "    <tr>\n",
       "      <th>0</th>\n",
       "      <td>Columbia Pictures Corporation</td>\n",
       "      <td>Rob Reiner</td>\n",
       "      <td>Adventure</td>\n",
       "      <td>Stand by Me</td>\n",
       "    </tr>\n",
       "    <tr>\n",
       "      <th>1</th>\n",
       "      <td>Paramount Pictures</td>\n",
       "      <td>John Hughes</td>\n",
       "      <td>Comedy</td>\n",
       "      <td>Ferris Bueller's Day Off</td>\n",
       "    </tr>\n",
       "    <tr>\n",
       "      <th>2</th>\n",
       "      <td>Paramount Pictures</td>\n",
       "      <td>Tony Scott</td>\n",
       "      <td>Action</td>\n",
       "      <td>Top Gun</td>\n",
       "    </tr>\n",
       "    <tr>\n",
       "      <th>3</th>\n",
       "      <td>Twentieth Century Fox Film Corporation</td>\n",
       "      <td>James Cameron</td>\n",
       "      <td>Action</td>\n",
       "      <td>Aliens</td>\n",
       "    </tr>\n",
       "    <tr>\n",
       "      <th>4</th>\n",
       "      <td>Walt Disney Pictures</td>\n",
       "      <td>Randal Kleiser</td>\n",
       "      <td>Adventure</td>\n",
       "      <td>Flight of the Navigator</td>\n",
       "    </tr>\n",
       "  </tbody>\n",
       "</table>\n",
       "</div>"
      ],
      "text/plain": [
       "                                  company        director      genre  \\\n",
       "0           Columbia Pictures Corporation      Rob Reiner  Adventure   \n",
       "1                      Paramount Pictures     John Hughes     Comedy   \n",
       "2                      Paramount Pictures      Tony Scott     Action   \n",
       "3  Twentieth Century Fox Film Corporation   James Cameron     Action   \n",
       "4                    Walt Disney Pictures  Randal Kleiser  Adventure   \n",
       "\n",
       "                       name  \n",
       "0               Stand by Me  \n",
       "1  Ferris Bueller's Day Off  \n",
       "2                   Top Gun  \n",
       "3                    Aliens  \n",
       "4   Flight of the Navigator  "
      ]
     },
     "execution_count": 9,
     "metadata": {},
     "output_type": "execute_result"
    }
   ],
   "source": [
    "df_to_import.head()\n"
   ]
  },
  {
   "cell_type": "code",
   "execution_count": 10,
   "metadata": {},
   "outputs": [],
   "source": [
    "\n",
    "# Function definitions\n",
    "def is_firebase_initialized():\n",
    "    \"\"\"Checks if a Firebase app has been initialized.\n",
    "\n",
    "    Returns:\n",
    "        True if a Firebase app has been initialized, False otherwise.\n",
    "    \"\"\"\n",
    "    try:\n",
    "        # Attempt to access the default app. If it exists, it's initialized.\n",
    "        firebase_admin.get_app()\n",
    "        return True\n",
    "    except ValueError:\n",
    "        return False\n",
    "    except Exception as e:\n",
    "        # Handle other potential exceptions\n",
    "        print(f\"Error checking Firebase initialization: {e}\")\n",
    "        return False\n"
   ]
  },
  {
   "cell_type": "code",
   "execution_count": 11,
   "metadata": {},
   "outputs": [],
   "source": [
    "\n",
    "def import_to_firebase(df, collection_name):\n",
    "    try:\n",
    "        collection_list = [collection.id for collection in db.collections()]\n",
    "        if collection_name not in collection_list:\n",
    "            for index, row in df.iterrows():\n",
    "                # Convert each row to a dictionary\n",
    "                row_dict = row.to_dict()\n",
    "                # Create a new document in the collection\n",
    "                db.collection(collection_name).add(row_dict)\n",
    "            print(\n",
    "                f'DataFrame importado correctamente a la colección \"{collection_name}\"'\n",
    "            )\n",
    "        else:\n",
    "            print(\n",
    "                f'La colección \"{collection_name}\" ya existe. No se importó el DataFrame.'\n",
    "            )\n",
    "\n",
    "    except Exception as e:\n",
    "        print(f\"Error al importar DataFrame: {e}\")\n",
    "\n"
   ]
  },
  {
   "cell_type": "code",
   "execution_count": 12,
   "metadata": {},
   "outputs": [],
   "source": [
    "\n",
    "def read_database_to_dataframe(collection_name) -> pd.DataFrame:\n",
    "    \"\"\"Lee todos los documentos de una colección de Firestore y los devuelve como un DataFrame de Pandas.\"\"\"\n",
    "    try:\n",
    "        docs = db.collection(collection_name).stream()\n",
    "        data = []\n",
    "        for doc in docs:\n",
    "            data.append(doc.to_dict())\n",
    "        df = pd.DataFrame(data)\n",
    "        return df\n",
    "    except Exception as e:\n",
    "        print(f\"Error al leer datos de Firestore: {e}\")\n",
    "        return None\n"
   ]
  },
  {
   "cell_type": "code",
   "execution_count": 13,
   "metadata": {},
   "outputs": [
    {
     "name": "stdout",
     "output_type": "stream",
     "text": [
      "Firebase app already initialized.\n"
     ]
    }
   ],
   "source": [
    "\n",
    "# Initialize Firebase\n",
    "if not is_firebase_initialized():\n",
    "    try:\n",
    "        firebase_admin.initialize_app(cred)\n",
    "        print(\"Firebase app initialized.\")\n",
    "    except Exception as e:\n",
    "        print(f\"Error initializing Firebase app: {e}\")\n",
    "else:\n",
    "    print(\"Firebase app already initialized.\")\n",
    "\n",
    "db = firestore.client()"
   ]
  },
  {
   "cell_type": "code",
   "execution_count": 14,
   "metadata": {},
   "outputs": [
    {
     "name": "stdout",
     "output_type": "stream",
     "text": [
      "La colección \"filmsDashboard\" ya existe. No se importó el DataFrame.\n"
     ]
    },
    {
     "name": "stderr",
     "output_type": "stream",
     "text": [
      "2025-03-09 08:24:59.363 WARNING streamlit.runtime.scriptrunner_utils.script_run_context: Thread 'MainThread': missing ScriptRunContext! This warning can be ignored when running in bare mode.\n",
      "2025-03-09 08:24:59.520 \n",
      "  \u001b[33m\u001b[1mWarning:\u001b[0m to view this Streamlit app on a browser, run it with the following\n",
      "  command:\n",
      "\n",
      "    streamlit run /home/feldt/.local/lib/python3.13/site-packages/ipykernel_launcher.py [ARGUMENTS]\n",
      "2025-03-09 08:24:59.521 Thread 'MainThread': missing ScriptRunContext! This warning can be ignored when running in bare mode.\n",
      "2025-03-09 08:24:59.522 Thread 'MainThread': missing ScriptRunContext! This warning can be ignored when running in bare mode.\n",
      "2025-03-09 08:24:59.523 Thread 'MainThread': missing ScriptRunContext! This warning can be ignored when running in bare mode.\n",
      "2025-03-09 08:24:59.523 Thread 'MainThread': missing ScriptRunContext! This warning can be ignored when running in bare mode.\n",
      "2025-03-09 08:24:59.524 Thread 'MainThread': missing ScriptRunContext! This warning can be ignored when running in bare mode.\n",
      "2025-03-09 08:24:59.524 Thread 'MainThread': missing ScriptRunContext! This warning can be ignored when running in bare mode.\n",
      "2025-03-09 08:24:59.525 Thread 'MainThread': missing ScriptRunContext! This warning can be ignored when running in bare mode.\n",
      "2025-03-09 08:24:59.525 Thread 'MainThread': missing ScriptRunContext! This warning can be ignored when running in bare mode.\n",
      "2025-03-09 08:24:59.526 Thread 'MainThread': missing ScriptRunContext! This warning can be ignored when running in bare mode.\n",
      "2025-03-09 08:24:59.526 Thread 'MainThread': missing ScriptRunContext! This warning can be ignored when running in bare mode.\n",
      "2025-03-09 08:24:59.526 Thread 'MainThread': missing ScriptRunContext! This warning can be ignored when running in bare mode.\n",
      "2025-03-09 08:24:59.527 Thread 'MainThread': missing ScriptRunContext! This warning can be ignored when running in bare mode.\n",
      "2025-03-09 08:24:59.527 Session state does not function when running a script without `streamlit run`\n",
      "2025-03-09 08:24:59.528 Thread 'MainThread': missing ScriptRunContext! This warning can be ignored when running in bare mode.\n",
      "2025-03-09 08:24:59.528 Thread 'MainThread': missing ScriptRunContext! This warning can be ignored when running in bare mode.\n",
      "2025-03-09 08:24:59.529 Thread 'MainThread': missing ScriptRunContext! This warning can be ignored when running in bare mode.\n",
      "2025-03-09 08:24:59.529 Thread 'MainThread': missing ScriptRunContext! This warning can be ignored when running in bare mode.\n",
      "2025-03-09 08:24:59.529 Thread 'MainThread': missing ScriptRunContext! This warning can be ignored when running in bare mode.\n",
      "2025-03-09 08:24:59.530 Thread 'MainThread': missing ScriptRunContext! This warning can be ignored when running in bare mode.\n",
      "2025-03-09 08:24:59.530 Thread 'MainThread': missing ScriptRunContext! This warning can be ignored when running in bare mode.\n",
      "2025-03-09 08:24:59.531 Thread 'MainThread': missing ScriptRunContext! This warning can be ignored when running in bare mode.\n",
      "2025-03-09 08:24:59.532 Thread 'MainThread': missing ScriptRunContext! This warning can be ignored when running in bare mode.\n",
      "2025-03-09 08:24:59.532 Thread 'MainThread': missing ScriptRunContext! This warning can be ignored when running in bare mode.\n",
      "2025-03-09 08:24:59.533 Thread 'MainThread': missing ScriptRunContext! This warning can be ignored when running in bare mode.\n",
      "2025-03-09 08:24:59.533 Thread 'MainThread': missing ScriptRunContext! This warning can be ignored when running in bare mode.\n",
      "2025-03-09 08:24:59.534 Thread 'MainThread': missing ScriptRunContext! This warning can be ignored when running in bare mode.\n",
      "2025-03-09 08:24:59.535 Thread 'MainThread': missing ScriptRunContext! This warning can be ignored when running in bare mode.\n",
      "2025-03-09 08:24:59.535 Thread 'MainThread': missing ScriptRunContext! This warning can be ignored when running in bare mode.\n",
      "2025-03-09 08:24:59.535 Thread 'MainThread': missing ScriptRunContext! This warning can be ignored when running in bare mode.\n",
      "2025-03-09 08:24:59.536 Thread 'MainThread': missing ScriptRunContext! This warning can be ignored when running in bare mode.\n",
      "2025-03-09 08:24:59.536 Thread 'MainThread': missing ScriptRunContext! This warning can be ignored when running in bare mode.\n",
      "2025-03-09 08:24:59.537 Thread 'MainThread': missing ScriptRunContext! This warning can be ignored when running in bare mode.\n",
      "2025-03-09 08:24:59.537 Thread 'MainThread': missing ScriptRunContext! This warning can be ignored when running in bare mode.\n",
      "2025-03-09 08:24:59.538 Thread 'MainThread': missing ScriptRunContext! This warning can be ignored when running in bare mode.\n",
      "2025-03-09 08:24:59.538 Thread 'MainThread': missing ScriptRunContext! This warning can be ignored when running in bare mode.\n",
      "2025-03-09 08:24:59.539 Thread 'MainThread': missing ScriptRunContext! This warning can be ignored when running in bare mode.\n",
      "2025-03-09 08:24:59.540 Thread 'MainThread': missing ScriptRunContext! This warning can be ignored when running in bare mode.\n",
      "2025-03-09 08:24:59.540 Thread 'MainThread': missing ScriptRunContext! This warning can be ignored when running in bare mode.\n",
      "2025-03-09 08:24:59.540 Thread 'MainThread': missing ScriptRunContext! This warning can be ignored when running in bare mode.\n",
      "2025-03-09 08:24:59.542 Thread 'MainThread': missing ScriptRunContext! This warning can be ignored when running in bare mode.\n",
      "2025-03-09 08:24:59.542 Thread 'MainThread': missing ScriptRunContext! This warning can be ignored when running in bare mode.\n",
      "2025-03-09 08:24:59.543 Thread 'MainThread': missing ScriptRunContext! This warning can be ignored when running in bare mode.\n",
      "2025-03-09 08:24:59.544 Thread 'MainThread': missing ScriptRunContext! This warning can be ignored when running in bare mode.\n",
      "2025-03-09 08:24:59.545 Thread 'MainThread': missing ScriptRunContext! This warning can be ignored when running in bare mode.\n",
      "2025-03-09 08:24:59.545 Thread 'MainThread': missing ScriptRunContext! This warning can be ignored when running in bare mode.\n",
      "2025-03-09 08:24:59.546 Thread 'MainThread': missing ScriptRunContext! This warning can be ignored when running in bare mode.\n",
      "2025-03-09 08:24:59.546 Thread 'MainThread': missing ScriptRunContext! This warning can be ignored when running in bare mode.\n",
      "2025-03-09 08:24:59.546 Thread 'MainThread': missing ScriptRunContext! This warning can be ignored when running in bare mode.\n",
      "2025-03-09 08:24:59.547 Thread 'MainThread': missing ScriptRunContext! This warning can be ignored when running in bare mode.\n",
      "2025-03-09 08:24:59.547 Thread 'MainThread': missing ScriptRunContext! This warning can be ignored when running in bare mode.\n",
      "2025-03-09 08:24:59.548 Thread 'MainThread': missing ScriptRunContext! This warning can be ignored when running in bare mode.\n",
      "2025-03-09 08:24:59.549 Thread 'MainThread': missing ScriptRunContext! This warning can be ignored when running in bare mode.\n",
      "2025-03-09 08:24:59.549 Thread 'MainThread': missing ScriptRunContext! This warning can be ignored when running in bare mode.\n",
      "2025-03-09 08:24:59.550 Thread 'MainThread': missing ScriptRunContext! This warning can be ignored when running in bare mode.\n",
      "2025-03-09 08:24:59.550 Thread 'MainThread': missing ScriptRunContext! This warning can be ignored when running in bare mode.\n",
      "2025-03-09 08:24:59.551 Thread 'MainThread': missing ScriptRunContext! This warning can be ignored when running in bare mode.\n",
      "2025-03-09 08:24:59.551 Thread 'MainThread': missing ScriptRunContext! This warning can be ignored when running in bare mode.\n",
      "2025-03-09 08:24:59.552 Thread 'MainThread': missing ScriptRunContext! This warning can be ignored when running in bare mode.\n",
      "2025-03-09 08:24:59.552 Thread 'MainThread': missing ScriptRunContext! This warning can be ignored when running in bare mode.\n"
     ]
    },
    {
     "name": "stdout",
     "output_type": "stream",
     "text": [
      "DataFrame base cargado correctamente.\n",
      "                  name                        company         director  \\\n",
      "0         Major League             Mirage Enterprises    David S. Ward   \n",
      "1       Stars and Bars  Columbia Pictures Corporation     Pat O'Connor   \n",
      "2      Rumpelstiltskin              Cannon Group, The     David Irving   \n",
      "3       Dark Obsession        Film Four International  Nick Broomfield   \n",
      "4  She's Having a Baby             Paramount Pictures      John Hughes   \n",
      "\n",
      "     genre  \n",
      "0   Comedy  \n",
      "1   Comedy  \n",
      "2  Fantasy  \n",
      "3    Drama  \n",
      "4   Comedy  \n"
     ]
    },
    {
     "name": "stderr",
     "output_type": "stream",
     "text": [
      "2025-03-09 08:24:59.570 Thread 'MainThread': missing ScriptRunContext! This warning can be ignored when running in bare mode.\n",
      "2025-03-09 08:24:59.571 Thread 'MainThread': missing ScriptRunContext! This warning can be ignored when running in bare mode.\n"
     ]
    }
   ],
   "source": [
    "\n",
    "# Import data to Firebase\n",
    "import_to_firebase(df_to_import, collection_name)\n",
    "\n",
    "# Read data from Firebase\n",
    "df_films = read_database_to_dataframe(collection_name)\n",
    "\n",
    "if df_films is not None:\n",
    "    print(\"DataFrame base cargado correctamente.\")\n",
    "    print(df_films.head())\n",
    "else:\n",
    "    print(\"No se pudo cargar el DataFrame base.\")\n",
    "\n",
    "# Streamlit app\n",
    "st.title(\"Netflix app\")\n",
    "\n",
    "# Initialize variables for storing results\n",
    "filter_results = df_films.copy()  # Initialize with all data\n",
    "search_results = None\n",
    "\n",
    "\n",
    "# Sidebar for filters\n",
    "with st.sidebar:\n",
    "    st.header(\"Filtros\")\n",
    "\n",
    "    # Checkbox to show all films\n",
    "    show_all = st.checkbox(\"Mostrar todos los filmes\", value=True)\n",
    "\n",
    "    # Text input to search films\n",
    "    film_title = st.text_input(\"Titulo del filme:\")\n",
    "\n",
    "    # Button to search films\n",
    "    if st.button(\"Buscar filmes\"):\n",
    "        if film_title:\n",
    "            search_results = df_films[\n",
    "                df_films[\"name\"].str.contains(film_title, case=False)\n",
    "            ]\n",
    "        else:\n",
    "            search_results = df_films.copy()\n",
    "\n",
    "    # Selector to select director\n",
    "    directors = df_films[\"director\"].unique().tolist()\n",
    "    selected_director = st.selectbox(\"Seleccionar Director\", [\"Todos\"] + directors)\n",
    "\n",
    "    # Button to filter director\n",
    "    if st.button(\"Filtrar director\"):\n",
    "        if selected_director != \"Todos\":\n",
    "            filter_results = df_films[df_films[\"director\"] == selected_director]\n",
    "        else:\n",
    "            filter_results = df_films.copy()\n",
    "\n",
    "    # Section to add new film (outside sidebar)\n",
    "    st.subheader(\"Nuevo filme\")\n",
    "    new_name = st.text_input(\"Name:\")\n",
    "    new_company = st.selectbox(\"Company\", df_films[\"company\"].unique().tolist())\n",
    "    new_director = st.text_input(\"Director:\")\n",
    "\n",
    "# Apply filters\n",
    "final_results = filter_results.copy()\n",
    "if search_results is not None:\n",
    "    final_results = final_results.merge(search_results, how=\"inner\")\n",
    "\n",
    "# Show results on the main page\n",
    "if show_all:\n",
    "    st.write(f\"Lista de filmes\")\n",
    "    st.write(f\"Mostrando: {len(final_results)} films de {len(df_films)}\")\n",
    "    st.write(final_results)\n"
   ]
  }
 ],
 "metadata": {
  "kernelspec": {
   "display_name": "Python 3",
   "language": "python",
   "name": "python3"
  },
  "language_info": {
   "codemirror_mode": {
    "name": "ipython",
    "version": 3
   },
   "file_extension": ".py",
   "mimetype": "text/x-python",
   "name": "python",
   "nbconvert_exporter": "python",
   "pygments_lexer": "ipython3",
   "version": "3.13.1"
  }
 },
 "nbformat": 4,
 "nbformat_minor": 2
}
